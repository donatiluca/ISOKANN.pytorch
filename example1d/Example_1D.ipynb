{
 "cells": [
  {
   "cell_type": "markdown",
   "id": "c7f03abf-e8b1-4951-a239-970808a0a313",
   "metadata": {},
   "source": [
    "# ISOKANN example with Feedforward Neural Network\n",
    "ISOKANN is an algorithm that uses machine learning techniques to identify invariant subspaces of the Koopman operator.\n",
    "The following implementation is based on the original ISOKANN version described in Ref. [1] and summarized in Ref. [2].\n",
    "\n",
    "This version of ISOKANN introduces improvements over the version in the top folder.\n",
    "Important features:\n",
    "\n",
    "- Torch-based\n",
    "- The main functions are collected in classes and functions in the modules directory\n",
    "- Random search is used to optimise hyperparameters\n",
    "- Early stopping\n",
    "- A validation test is introduced\n",
    "- The power method stops if convergence is below a certain threshold\n",
    "  \n",
    "__References__\n",
    "\n",
    "[1] R. J. Rabben, S. Ray, M. Weber; ISOKANN: Invariant subspaces of Koopman operators learned by a neural network. \n",
    "[J. Chem. Phys. 153, 114109 (2020)](https://pubs.aip.org/aip/jcp/article-abstract/153/11/114109/199583/ISOKANN-Invariant-subspaces-of-Koopman-operators)\n",
    "\n",
    "[2] L. Donati; [Notes about ISOKANN algorithm](https://www.zib.de/userpage/donati/SeminarSOSE2024/06/lecture_notes/L06.pdf)"
   ]
  },
  {
   "cell_type": "code",
   "execution_count": 1,
   "id": "9a1dca30-76ef-4bb9-a386-e4a3f1a356fd",
   "metadata": {},
   "outputs": [
    {
     "name": "stdout",
     "output_type": "stream",
     "text": [
      "Torch is on: cpu\n",
      "Thermal energy: 2.4943389\n"
     ]
    },
    {
     "data": {
      "text/latex": [
       "$\\displaystyle 10 \\left(x^{2} - 1\\right)^{2}$"
      ],
      "text/plain": [
       "10*(x**2 - 1)**2"
      ]
     },
     "metadata": {},
     "output_type": "display_data"
    },
    {
     "data": {
      "image/png": "[encoded data removed]",
      "text/plain": [
       "<Figure size 393.701x196.85 with 1 Axes>"
      ]
     },
     "metadata": {},
     "output_type": "display_data"
    }
   ],
   "source": [
    "import numpy as np\n",
    "import sympy as sp\n",
    "import torch as pt\n",
    "from tqdm import tqdm\n",
    "import scipy \n",
    "import random\n",
    "\n",
    "import sys\n",
    "# Add parent directory to sys.path\n",
    "sys.path.append(\"..\")\n",
    "from modules.other_functions import discretize_axis, Potential1D_car, SystemParameters, scale_and_shift, exit_rates_from_chi\n",
    "from modules.NN_modules import NeuralNetwork, trainNN, random_search, power_method\n",
    "\n",
    "import matplotlib.pyplot as plt\n",
    "\n",
    "# Check if CUDA is available, otherwise use CPU\n",
    "device = pt.device(\"cuda\" if pt.cuda.is_available() else \"cpu\")\n",
    "print(f\"Torch is on: {device}\")\n",
    "\n",
    "# For reproducibility\n",
    "np.random.seed(0)\n",
    "pt.manual_seed(0)\n",
    "\n",
    "# For figures\n",
    "font = {'size'   : 10}\n",
    "plt.rc('font', **font)\n",
    "in2cm = 1/2.54  # centimeters in inches\n",
    "\n",
    "# System parameters\n",
    "SPs  = SystemParameters()\n",
    "\n",
    "\n",
    "print(\"Thermal energy:\", SPs.kB * SPs.T)\n",
    "\n",
    "# Potential energy function\n",
    "x      =  sp.symbols('x')\n",
    "\n",
    "P1D = Potential1D_car( 10*(x**2 - 1)**2 )\n",
    "\n",
    "## Plot potential\n",
    "ax, xedges, xbins, dx = discretize_axis(-1.5, 1.5, 100)\n",
    "\n",
    "fig = plt.figure(figsize=(10*in2cm, 5*in2cm))\n",
    "\n",
    "plt.plot(ax, P1D.V(ax), 'k-', label = r'$V(x)$')\n",
    "plt.plot(ax, SPs.kB * SPs.T * np.ones(xbins),'r', label = r'$k_B T$')\n",
    "plt.legend()\n",
    "plt.xlabel('x')\n",
    "\n",
    "plt.subplots_adjust(left=0, bottom=0, right=1, top=1, wspace=0.2, hspace=0.5)\n",
    "#fig.savefig('potential.png', format='png', dpi=300, bbox_inches='tight')"
   ]
  },
  {
   "cell_type": "markdown",
   "id": "dcb1929e-b5db-48b1-8b55-d338f127c746",
   "metadata": {},
   "source": [
    "Load the data set of initial points $x_0$.\n",
    "Load the data set of final points $x_t$."
   ]
  },
  {
   "cell_type": "code",
   "execution_count": 2,
   "id": "14db8be3-4e33-4f77-bc2e-e7f28b5872ac",
   "metadata": {},
   "outputs": [
    {
     "name": "stdout",
     "output_type": "stream",
     "text": [
      "x0.shape = (200,)\n",
      "Npoints =  200\n",
      "xt.shape = (200, 300)\n",
      "Nfinpoints =  300\n"
     ]
    }
   ],
   "source": [
    "# Load initial points\n",
    "x0 = np.loadtxt('x0.txt')\n",
    "print(\"x0.shape =\", x0.shape)\n",
    "\n",
    "Npoints = len(x0)\n",
    "print(\"Npoints = \", Npoints)\n",
    "\n",
    "# Load final points\n",
    "xt = np.loadtxt('xt.txt')\n",
    "print(\"xt.shape =\", xt.shape)\n",
    "\n",
    "Npoints      = xt.shape[0]  # == len(x0)\n",
    "Nfinpoints   = xt.shape[1]\n",
    "print(\"Nfinpoints = \", Nfinpoints)\n",
    "\n",
    "\n",
    "# Length of each trajectory (this information is used later for rate estimation)\n",
    "Nsteps = 200\n",
    "# Integrator time step used for simulations\n",
    "dt     = 0.001"
   ]
  },
  {
   "cell_type": "code",
   "execution_count": null,
   "id": "e183af1a-1d9f-415b-a1ca-d6882639f5e1",
   "metadata": {},
   "outputs": [
    {
     "name": "stderr",
     "output_type": "stream",
     "text": [
      " 20%|███████████████████████████████████▍                                                                                                                                             | 1/5 [00:09<00:38,  9.74s/it]"
     ]
    },
    {
     "name": "stdout",
     "output_type": "stream",
     "text": [
      "Validation loss: tensor(0.0003)\n"
     ]
    },
    {
     "name": "stderr",
     "output_type": "stream",
     "text": [
      " 40%|██████████████████████████████████████████████████████████████████████▊                                                                                                          | 2/5 [00:23<00:36, 12.05s/it]"
     ]
    },
    {
     "name": "stdout",
     "output_type": "stream",
     "text": [
      "Validation loss: tensor(9.0786e-05)\n"
     ]
    },
    {
     "name": "stderr",
     "output_type": "stream",
     "text": [
      " 60%|██████████████████████████████████████████████████████████████████████████████████████████████████████████▏                                                                      | 3/5 [00:30<00:19,  9.57s/it]"
     ]
    },
    {
     "name": "stdout",
     "output_type": "stream",
     "text": [
      "Validation loss: tensor(0.0004)\n"
     ]
    },
    {
     "name": "stderr",
     "output_type": "stream",
     "text": [
      " 80%|█████████████████████████████████████████████████████████████████████████████████████████████████████████████████████████████████████████████▌                                   | 4/5 [00:41<00:10, 10.22s/it]"
     ]
    },
    {
     "name": "stdout",
     "output_type": "stream",
     "text": [
      "Validation loss: tensor(0.0004)\n"
     ]
    },
    {
     "name": "stderr",
     "output_type": "stream",
     "text": [
      "100%|█████████████████████████████████████████████████████████████████████████████████████████████████████████████████████████████████████████████████████████████████████████████████| 5/5 [00:51<00:00, 10.24s/it]\n"
     ]
    },
    {
     "name": "stdout",
     "output_type": "stream",
     "text": [
      "Validation loss: tensor(0.0005)\n",
      "The best hyperparameters are: {'nodes': array([  1, 128,  64,   1]), 'learning_rate': 0.01}\n"
     ]
    },
    {
     "name": "stderr",
     "output_type": "stream",
     "text": [
      " 53%|██████████████████████████████████████████████████████████████████████████████████████████▉                                                                                  | 263/500 [00:41<00:32,  7.34it/s]"
     ]
    }
   ],
   "source": [
    "# This cell implements the modified power method \n",
    "\n",
    "# Convert x0 and add one dimension, such that pt_x0.shape = (Npoints, 1)\n",
    "pt_x0     =  pt.tensor(x0, dtype=pt.float32, device=device).unsqueeze(1)\n",
    "\n",
    "# Convert xt and add one dimension, such that pt_xt.shape = (Npoints, Nfinpoints, 1)\n",
    "pt_xt     =  pt.tensor(xt, dtype=pt.float32, device=device).unsqueeze(2)\n",
    "\n",
    "# Find the optimal hyperparameters using random search\n",
    "NN_layers =          [(SPs.Ndims, 32, 1), \n",
    "                      (SPs.Ndims, 64, 1), \n",
    "                      (SPs.Ndims, 128, 1),\n",
    "                      (SPs.Ndims, 128, 64, 1), \n",
    "                      (SPs.Ndims, 64, 32, 1)]\n",
    "\n",
    "learning_rates = [0.01, \n",
    "                  0.001, \n",
    "                  0.0001]\n",
    "\n",
    "best_hyperparams, best_val_loss = random_search(pt_x0, pt_xt, NN_layers, learning_rates, search_iterations=5)\n",
    "\n",
    "print(\"The best hyperparameters are:\", best_hyperparams)\n",
    "\n",
    "nodes = best_hyperparams['nodes']\n",
    "lr    = best_hyperparams['learning_rate']\n",
    "\n",
    "# Define the interpolating function\n",
    "f_k = NeuralNetwork( Nodes = np.asarray(nodes), enforce_positive = 1 )\n",
    "\n",
    "# Apply the power method using the best hyperparameters\n",
    "train_LOSS, val_LOSS, best_loss = power_method(pt_x0, \n",
    "                                               pt_xt, \n",
    "                                               f_k, \n",
    "                                               scale_and_shift, \n",
    "                                               Niters = 500, \n",
    "                                               Nepochs = 100,\n",
    "                                               tolerance  = 5e-3, \n",
    "                                               lr = lr,\n",
    "                                               batch_size = 50,  \n",
    "                                               print_eta  = True\n",
    "                                              )\n",
    "\n",
    "pt_ax  =  pt.tensor(ax, dtype=pt.float32).unsqueeze(1)\n",
    "y      =  f_k(pt_ax).cpu().detach().numpy()\n",
    "chi    =  f_k(pt_x0).cpu().detach().numpy()\n",
    "\n",
    "## Plot chi function and loss functions\n",
    "fig, (ax1,ax2) = plt.subplots(1,2,figsize=(10*in2cm, 5*in2cm))\n",
    "\n",
    "ax1.plot(ax, y, 'k')\n",
    "ax1.plot(ax, 1-y, 'k')\n",
    "\n",
    "ax1.plot(x0, chi,   'sb')\n",
    "ax1.plot(x0, 1-chi,   'sr')\n",
    "\n",
    "ax1.set_xlabel(r'$x$')\n",
    "ax1.set_ylabel(r'$\\chi_i$')\n",
    "ax1.set_title('Membership functions')\n",
    "\n",
    "#ax.set_ylim(-0.1,1.1);\n",
    "\n",
    "ax2.plot(train_LOSS, 'b', label='Training loss')\n",
    "ax2.plot(val_LOSS,   'r--', label='Validation loss')\n",
    "\n",
    "ax2.set_xlabel('Epoch')\n",
    "ax2.set_title('Loss functions')\n",
    "#ax.set_ylim(0,0.01)\n",
    "ax2.set_yscale('log')\n",
    "ax2.legend()\n",
    "\n",
    "plt.subplots_adjust(left=0, bottom=0, right=1, top=1, wspace=0.3, hspace=0.5)\n",
    "fig.savefig('chi_1D.png', format='png', dpi=300, bbox_inches='tight')"
   ]
  },
  {
   "cell_type": "code",
   "execution_count": null,
   "id": "a8878c4b-6cfe-41e3-b69d-0ca48d2a798c",
   "metadata": {},
   "outputs": [],
   "source": [
    "chi_0   = f_k(pt_x0).cpu().detach().numpy()\n",
    "y       = f_k(pt_xt).cpu().detach().numpy()\n",
    "chi_tau = np.mean( y, axis=1 )\n",
    "\n",
    "chi_0         = np.array([chi_0,      1 - chi_0]).T\n",
    "chi_tau       = np.array([chi_tau,    1 - chi_tau]).T\n",
    "\n",
    "\n",
    "rate1, rate2  = exit_rates_from_chi(Nsteps * dt, chi_0, chi_tau)"
   ]
  }
 ],
 "metadata": {
  "kernelspec": {
   "display_name": "Python 3 (ipykernel)",
   "language": "python",
   "name": "python3"
  },
  "language_info": {
   "codemirror_mode": {
    "name": "ipython",
    "version": 3
   },
   "file_extension": ".py",
   "mimetype": "text/x-python",
   "name": "python",
   "nbconvert_exporter": "python",
   "pygments_lexer": "ipython3",
   "version": "3.11.9"
  }
 },
 "nbformat": 4,
 "nbformat_minor": 5
}
